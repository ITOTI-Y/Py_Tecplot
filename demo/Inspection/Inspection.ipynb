{
 "cells": [
  {
   "cell_type": "code",
   "execution_count": 142,
   "metadata": {},
   "outputs": [],
   "source": [
    "import xlwings\n",
    "import pandas as pd\n",
    "import numpy as np\n",
    "\n",
    "def inspection(data:list,reverse=False,cut_num=3):\n",
    "    if reverse:\n",
    "        data = data[::-1]\n",
    "    df  = data[0].copy()\n",
    "    for i in data[1].iloc[:,0].values:\n",
    "        if i in df.iloc[:,0].values:\n",
    "            continue\n",
    "        else:\n",
    "            temp = pd.DataFrame([i],columns=[df.columns[0]])\n",
    "            df = pd.concat([df,temp],axis=0)\n",
    "    df = df.sort_values(by=[df.columns[0]]).interpolate()\n",
    "    df = df.reset_index(drop=True)\n",
    "    result = df[df.iloc[:,0].values<cut_num]\n",
    "    return result"
   ]
  },
  {
   "cell_type": "code",
   "execution_count": 143,
   "metadata": {},
   "outputs": [],
   "source": [
    "data = pd.read_csv('../../data/all_data.csv')\n",
    "cfd_index = np.arange(0,20,4)\n",
    "sim_index = np.arange(2,20,4)\n",
    "cfd,sim = [],[]\n",
    "for i in range(len(cfd_index)):\n",
    "    cfd.append(data.iloc[:,cfd_index[i]:cfd_index[i]+2])\n",
    "    sim.append(data.iloc[:,sim_index[i]:sim_index[i]+2])\n",
    "\n",
    "result = pd.DataFrame()\n",
    "for i in range(len(cfd)):\n",
    "    data = [cfd[i].dropna(),sim[i].dropna()]\n",
    "    temp1 = inspection(data)\n",
    "    temp2 = inspection(data,reverse=True)\n",
    "    result = pd.concat([result,temp1,temp2],axis=1)\n",
    "\n",
    "result.to_csv('../../data/inspection.csv',index=False)"
   ]
  }
 ],
 "metadata": {
  "kernelspec": {
   "display_name": "Python 3",
   "language": "python",
   "name": "python3"
  },
  "language_info": {
   "codemirror_mode": {
    "name": "ipython",
    "version": 3
   },
   "file_extension": ".py",
   "mimetype": "text/x-python",
   "name": "python",
   "nbconvert_exporter": "python",
   "pygments_lexer": "ipython3",
   "version": "3.11.2"
  },
  "orig_nbformat": 4
 },
 "nbformat": 4,
 "nbformat_minor": 2
}
