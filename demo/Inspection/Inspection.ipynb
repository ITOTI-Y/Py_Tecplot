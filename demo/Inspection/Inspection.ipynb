{
 "cells": [
  {
   "cell_type": "code",
   "execution_count": 17,
   "metadata": {},
   "outputs": [],
   "source": [
    "import pandas as pd\n",
    "import numpy as np\n",
    "\n",
    "def inspection(data:list,reverse=False,min_num=0.5,max_num=3):\n",
    "    if reverse:\n",
    "        data = data[::-1]\n",
    "    df  = data[0].copy()\n",
    "    for i in data[1].iloc[:,0].values:\n",
    "        if i in df.iloc[:,0].values:\n",
    "            continue\n",
    "        else:\n",
    "            temp = pd.DataFrame([i],columns=[df.columns[0]])\n",
    "            df = pd.concat([df,temp],axis=0)\n",
    "    df = df.sort_values(by=[df.columns[0]]).interpolate()\n",
    "    df = df.reset_index(drop=True)\n",
    "    df = df[df.iloc[:,0].values>min_num]\n",
    "    result = df[df.iloc[:,0].values<max_num]\n",
    "    return result"
   ]
  },
  {
   "cell_type": "code",
   "execution_count": 10,
   "metadata": {},
   "outputs": [],
   "source": [
    "data = pd.read_csv('../../data/all_position.csv')\n",
    "cfd_index = np.arange(0,20,4)\n",
    "sim_index = np.arange(2,20,4)\n",
    "cfd,sim = [],[]\n",
    "for i in range(len(cfd_index)):\n",
    "    cfd.append(data.iloc[:,cfd_index[i]:cfd_index[i]+2])\n",
    "    sim.append(data.iloc[:,sim_index[i]:sim_index[i]+2])\n",
    "\n",
    "result = pd.DataFrame()\n",
    "for i in range(len(cfd)):\n",
    "    data = [cfd[i].dropna(),sim[i].dropna()]\n",
    "    data[1] = data[1].drop(index=1)\n",
    "    temp1 = inspection(data)\n",
    "    temp2 = inspection(data,reverse=True)\n",
    "    result = pd.concat([result,temp1,temp2],axis=1)\n",
    "\n",
    "result.to_csv('../../data/position_inspection.csv',index=False)"
   ]
  },
  {
   "cell_type": "code",
   "execution_count": 18,
   "metadata": {},
   "outputs": [],
   "source": [
    "data = pd.read_csv('../../data/all_data.csv')\n",
    "cfd_index = np.arange(0,20,4)\n",
    "sim_index = np.arange(2,20,4)\n",
    "cfd,sim = [],[]\n",
    "for i in range(len(cfd_index)):\n",
    "    cfd.append(data.iloc[:,cfd_index[i]:cfd_index[i]+2])\n",
    "    sim.append(data.iloc[:,sim_index[i]:sim_index[i]+2])\n",
    "\n",
    "result = pd.DataFrame()\n",
    "for i in range(len(cfd)):\n",
    "    data = [cfd[i].dropna(),sim[i].dropna()]\n",
    "    temp1 = inspection(data)\n",
    "    temp2 = inspection(data,reverse=True)\n",
    "    result = pd.concat([result,temp1,temp2],axis=1)\n",
    "\n",
    "# result.to_csv('../../data/inspection.csv',index=False)"
   ]
  },
  {
   "cell_type": "code",
   "execution_count": 19,
   "metadata": {},
   "outputs": [
    {
     "name": "stdout",
     "output_type": "stream",
     "text": [
      "125.41483382061983\n",
      "93.10384717650838\n",
      "70.29404607504206\n",
      "162.58443370218677\n",
      "229.2266467153651\n"
     ]
    }
   ],
   "source": [
    "# 均方根误差，RMSE\n",
    "rmse_index = np.arange(1,20,2)\n",
    "rmse_data = [result.iloc[:,i] for i in rmse_index]\n",
    "index = np.arange(0,10,2)\n",
    "for i in index:\n",
    "    a = np.asarray(rmse_data[i].dropna())\n",
    "    b = np.asarray(rmse_data[i+1].dropna())\n",
    "    print(np.sqrt(np.mean((a-b)**2)))"
   ]
  },
  {
   "cell_type": "code",
   "execution_count": 20,
   "metadata": {},
   "outputs": [
    {
     "data": {
      "text/html": [
       "<div>\n",
       "<style scoped>\n",
       "    .dataframe tbody tr th:only-of-type {\n",
       "        vertical-align: middle;\n",
       "    }\n",
       "\n",
       "    .dataframe tbody tr th {\n",
       "        vertical-align: top;\n",
       "    }\n",
       "\n",
       "    .dataframe thead th {\n",
       "        text-align: right;\n",
       "    }\n",
       "</style>\n",
       "<table border=\"1\" class=\"dataframe\">\n",
       "  <thead>\n",
       "    <tr style=\"text-align: right;\">\n",
       "      <th></th>\n",
       "      <th>0</th>\n",
       "      <th>1</th>\n",
       "      <th>2</th>\n",
       "      <th>3</th>\n",
       "      <th>4</th>\n",
       "    </tr>\n",
       "  </thead>\n",
       "  <tbody>\n",
       "    <tr>\n",
       "      <th>0</th>\n",
       "      <td>0.137728</td>\n",
       "      <td>0.11018</td>\n",
       "      <td>0.085405</td>\n",
       "      <td>0.160489</td>\n",
       "      <td>0.205731</td>\n",
       "    </tr>\n",
       "  </tbody>\n",
       "</table>\n",
       "</div>"
      ],
      "text/plain": [
       "          0        1         2         3         4\n",
       "0  0.137728  0.11018  0.085405  0.160489  0.205731"
      ]
     },
     "execution_count": 20,
     "metadata": {},
     "output_type": "execute_result"
    }
   ],
   "source": [
    "# 平均百分比误差，MAPE\n",
    "temp = []\n",
    "for i in index:\n",
    "    a = np.asarray(rmse_data[i].dropna())\n",
    "    b = np.asarray(rmse_data[i+1].dropna())\n",
    "    temp.append(np.mean(abs((a-b)/a)))\n",
    "\n",
    "test = pd.DataFrame(temp).T\n",
    "test"
   ]
  }
 ],
 "metadata": {
  "kernelspec": {
   "display_name": "Python 3",
   "language": "python",
   "name": "python3"
  },
  "language_info": {
   "codemirror_mode": {
    "name": "ipython",
    "version": 3
   },
   "file_extension": ".py",
   "mimetype": "text/x-python",
   "name": "python",
   "nbconvert_exporter": "python",
   "pygments_lexer": "ipython3",
   "version": "3.11.2"
  },
  "orig_nbformat": 4
 },
 "nbformat": 4,
 "nbformat_minor": 2
}
