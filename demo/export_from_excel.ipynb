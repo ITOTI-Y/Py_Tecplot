{
 "cells": [
  {
   "cell_type": "code",
   "execution_count": 25,
   "metadata": {},
   "outputs": [],
   "source": [
    "import pandas as pd\n",
    "import xlwings as xw\n",
    "from tqdm import tqdm\n",
    "import numpy as np\n",
    "import plotly.graph_objects as go\n",
    "import plotly.express as px\n",
    "import sys\n",
    "sys.path.append('../')\n",
    "from data.jet_sim import *"
   ]
  },
  {
   "cell_type": "code",
   "execution_count": 26,
   "metadata": {},
   "outputs": [],
   "source": [
    "def data_nplist(file_path:str = '../data/CFD0.8_0.2.csv',columns_index = 0,is_mean = True):\n",
    "    pd_data = pd.read_csv(file_path)\n",
    "    j = pd_data.iloc[0,0]\n",
    "    num = 0\n",
    "    cut_list = [0]\n",
    "    for i in pd_data.iloc[:,0]:\n",
    "        if abs(j-i) > 1:\n",
    "            j = i\n",
    "            cut_list.append(num)\n",
    "        else:\n",
    "            j = i\n",
    "        num += 1\n",
    "    cut_list.append(num-1)\n",
    "\n",
    "    res = dict()\n",
    "    for i in range(len(cut_list)-1):\n",
    "        res[f'ID{i}'] = pd_data.iloc[cut_list[i]:cut_list[i+1],]\n",
    "\n",
    "    min_num = 10000\n",
    "    for i in range(len(res)):\n",
    "        if len(res[f'ID{i}']) < min_num:\n",
    "            min_num = len(res[f'ID{i}'])\n",
    "\n",
    "    np_list = np.empty((min_num,0))\n",
    "    for i in res.keys():\n",
    "        b = np.asarray(res[i].iloc[:min_num,columns_index]).reshape(-1,1)\n",
    "        np_list = np.concatenate((np_list,b),axis=1)\n",
    "    if is_mean:\n",
    "        np_list = np_list.mean(axis=1)\n",
    "        np_list = np_list - np_list.min() # 坐标归零\n",
    "    return(np_list)\n",
    "\n",
    "def reslut_plot(TIME,DELTA_T,K,U,EXHALE,file_path='../data/CFD0.8_0.2.csv',name = ['sim','cfd']):\n",
    "    sim_data = transform_pd(sim_jet(TIME,DELTA_T,K,U,EXHALE))\n",
    "\n",
    "    cfd_data_x = data_nplist(file_path,columns_index = 0)\n",
    "    cfd_data_y = data_nplist(file_path,columns_index = 1)\n",
    "\n",
    "    fig = go.Figure()\n",
    "    fig.add_trace(go.Scatter(x=sim_data['x'], y=sim_data['y'], mode='lines', name=name[0]))\n",
    "    fig.add_trace(go.Scatter(x=cfd_data_x, y=cfd_data_y, mode='lines', name=name[1]))\n",
    "    fig.update_xaxes(range=[0, 2])\n",
    "    fig.update_yaxes(range=[0, 0.3])\n",
    "    fig.update_layout(title=f'Attenuation coefficient={K},\\\n",
    "                    <br />Ambient airflow={U},Exhale={EXHALE[1]}', xaxis_title='x(m)', yaxis_title='y(m)',\n",
    "                    font_family = 'Times New Roman',width=800, height=600)\n",
    "    return fig"
   ]
  },
  {
   "cell_type": "code",
   "execution_count": 27,
   "metadata": {},
   "outputs": [],
   "source": [
    "TIME = 20\n",
    "DELTA_T = 0.005\n",
    "K = 0.5\n",
    "U = [0.2,0.4,0.6]\n",
    "EXHALE = [0.55,0.8,1.1]\n",
    "def output(U,E,name = ['Calc','Sim']):\n",
    "    FILE_PATH = f'../data/{E}_{U}.csv'\n",
    "    return reslut_plot(TIME,DELTA_T,K,U,[0,E],FILE_PATH,name = name)"
   ]
  }
 ],
 "metadata": {
  "kernelspec": {
   "display_name": "Python 3",
   "language": "python",
   "name": "python3"
  },
  "language_info": {
   "codemirror_mode": {
    "name": "ipython",
    "version": 3
   },
   "file_extension": ".py",
   "mimetype": "text/x-python",
   "name": "python",
   "nbconvert_exporter": "python",
   "pygments_lexer": "ipython3",
   "version": "3.11.2"
  },
  "orig_nbformat": 4
 },
 "nbformat": 4,
 "nbformat_minor": 2
}
