{
 "cells": [
  {
   "cell_type": "code",
   "execution_count": 1,
   "metadata": {
    "tags": []
   },
   "outputs": [],
   "source": [
    "import numpy as np\n",
    "import pandas as pd\n",
    "from decimal import Decimal\n",
    "from plotly import express as px\n",
    "import plotly.graph_objects as go\n",
    "R = 0.1 # radius of the people\n",
    "U = 0.2 # veloctiy of the field\n",
    "PPM = 40000 # Expiratory carbon dioxide concentration\n",
    "C_env = 440\n",
    "\n",
    "def U_stockes(x,y,U = 0.2,R = 0.1):\n",
    "    a = np.sqrt((x-(-R))**2+(y-0)**2)\n",
    "    b = np.sqrt((x-0)**2+(y-0)**2) # distance from the center of the people to the point == r\n",
    "    c = np.sqrt((-R-0)**2+(0-0)**2)\n",
    "    d = round((b**2+c**2-a**2)/(2*b*c),12)\n",
    "    rad_theta = np.arccos(d)\n",
    "    u_r = -U*np.cos(rad_theta)*(1-3*R/(2*b)+R**3/(2*b**3))\n",
    "    u_theta = U*np.sin(rad_theta)*(1-3*R/(4*b)-R**3/(4*b**3))\n",
    "    u_x = round(u_r*(-np.cos(rad_theta))+u_theta*(np.sin(rad_theta)),10)\n",
    "    u_y = round(u_r*(np.sin(rad_theta))+u_theta*(np.cos(rad_theta)),10)\n",
    "    deg_theta = np.rad2deg(rad_theta).round(10)\n",
    "    return[u_x,u_y,deg_theta,u_r,u_theta]\n",
    "\n",
    "def dim(s):\n",
    "    # s 为累计距离，单位m\n",
    "    alpha = 0.076\n",
    "    d0 = 0.02\n",
    "    d = d0*6.8*(alpha*s/d0+1/6.8) # 0.147 = 1/6.8 使之满足s = 0时d = d0\n",
    "    return d\n",
    "\n",
    "def sim_jet(Total_time = 10,delta_t = 0.005,k = 0.65,U = 0.2,U_origin = [0,0.55],position = [0,0.1]):\n",
    "    x = position[0]\n",
    "    y = position[1] # initial people position\n",
    "    u_p_x = U_origin[0] # initial people velocity\n",
    "    u_p_y = U_origin[1] # initial people velocity\n",
    "    s = 0 # initial distance\n",
    "    Q = np.sqrt(u_p_x**2+u_p_y**2)*np.pi*dim(s)**2/4 # initial flow rate\n",
    "    res = [[x,y,u_p_x,u_p_y,s,dim(s),Q,PPM]]\n",
    "    delta_t = delta_t # time step unit: 1/s\n",
    "    for i in range(int(Total_time/delta_t)):\n",
    "        alpha = 0.076\n",
    "        delta_x = res[i][2]*delta_t\n",
    "        delta_y = res[i][3]*delta_t\n",
    "        x += delta_x\n",
    "        y += delta_y\n",
    "        s += np.sqrt(delta_x**2+delta_y**2)\n",
    "        U_stockes_origin = U_stockes(res[i][0],res[i][1],U=U)\n",
    "        U_stockes_next = U_stockes(x,y,U=U)\n",
    "        u_real = np.sqrt(res[i][2]**2+res[i][3]**2)\n",
    "        delta_u_real_x = -(0.48*alpha/dim(s)*(res[i][2]-U_stockes_next[0])*abs(u_real)*delta_t*k/(0.147)**2)+U_stockes_next[0]-U_stockes_origin[0]\n",
    "        delta_u_real_y = -(0.48*alpha/dim(s)*(res[i][3]-U_stockes_next[1])*abs(u_real)*delta_t*k/(0.147)**2)+U_stockes_next[1]-U_stockes_origin[1]\n",
    "        u_real_x = res[i][2]+delta_u_real_x\n",
    "        u_real_y = res[i][3]+delta_u_real_y\n",
    "        Q2 = np.sqrt(u_real_x**2+u_real_y**2)*np.pi*dim(s)**2/4\n",
    "        ppm = (PPM*Q+(Q2-Q)*C_env)/Q2\n",
    "        res.append([x,y,u_real_x,u_real_y,s,dim(s),Q2,ppm])\n",
    "    return res\n",
    "\n",
    "def transform_pd(data,columns = ['x','y','u_real_x','u_real_y','s','d','Q','ppm']):\n",
    "    df = pd.DataFrame(data,columns = columns)\n",
    "    df['y'] = df['y'] - 0.1\n",
    "    df['Q'] = np.pi*np.sqrt(df['u_real_x']**2+df['u_real_y']**2)*(df['d']**2)/4\n",
    "    return(df)"
   ]
  },
  {
   "cell_type": "code",
   "execution_count": 2,
   "metadata": {},
   "outputs": [],
   "source": [
    "TIME = 20\n",
    "DELTA_T = 0.005\n",
    "K = 0.5\n",
    "U = [0.2,0.4,0.6]\n",
    "EXHALE = [0.55,0.8,1.1]"
   ]
  },
  {
   "cell_type": "code",
   "execution_count": 5,
   "metadata": {},
   "outputs": [],
   "source": [
    "k=0.5\n",
    "total_U = U[0]\n",
    "exhale = EXHALE[0]\n",
    "result = transform_pd(sim_jet(Total_time=TIME,delta_t=DELTA_T,k=K,U=total_U,U_origin=[0,exhale]))"
   ]
  }
 ],
 "metadata": {
  "kernelspec": {
   "display_name": "Python 3",
   "language": "python",
   "name": "python3"
  },
  "language_info": {
   "codemirror_mode": {
    "name": "ipython",
    "version": 3
   },
   "file_extension": ".py",
   "mimetype": "text/x-python",
   "name": "python",
   "nbconvert_exporter": "python",
   "pygments_lexer": "ipython3",
   "version": "3.11.2"
  },
  "vscode": {
   "interpreter": {
    "hash": "ff4b1fca65a764b45acb559e482afe389d289dd599b9f8c5fd12ff5c2ea46a65"
   }
  }
 },
 "nbformat": 4,
 "nbformat_minor": 4
}
