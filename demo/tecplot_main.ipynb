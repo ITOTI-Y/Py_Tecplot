{
 "cells": [
  {
   "cell_type": "code",
   "execution_count": 19,
   "metadata": {},
   "outputs": [
    {
     "name": "stdout",
     "output_type": "stream",
     "text": [
      "Connecting to Tecplot 360 TecUtil Server on:\n",
      "    tcp://localhost:7600\n",
      "Connection established.\n"
     ]
    }
   ],
   "source": [
    "#初始化程序\n",
    "import tecplot as tp\n",
    "from tecplot.constant import PlotType,SliceSurface,ContLegendLabelLocation\n",
    "tp.session.connect()\n",
    "frame = tp.active_frame()\n",
    "dataset = frame.dataset"
   ]
  },
  {
   "cell_type": "code",
   "execution_count": 28,
   "metadata": {},
   "outputs": [],
   "source": [
    "#坐标转换\n",
    "def axes_transform(frame = tp.active_frame(),transform = {'z':'y','y':'z'},init = True):\n",
    "    axes = frame.plot().axes #笛卡尔三维坐标系\n",
    "    plot = frame.plot()\n",
    "    for i in transform:\n",
    "        if i == 'x' or i == 'X':\n",
    "            axes.x_axis.variable = dataset.variable(f'{transform[i]}')\n",
    "        elif i == 'y' or i == 'Y':\n",
    "            axes.y_axis.variable = dataset.variable(f'{transform[i]}')\n",
    "        elif i == 'z' or i == 'Z':\n",
    "            axes.z_axis.variable = dataset.variable(f'{transform[i]}')\n",
    "    if init: #初始化坐标轴，重设缩放\n",
    "        axes.reset_range()\n",
    "        axes.reset_scale()\n",
    "        plot.view.fit()\n",
    "\n",
    "#求解速度场\n",
    "def velocity_field():\n",
    "    '''\n",
    "    数据转换函数，使用方式参考：\n",
    "    二氧化碳浓度场：\n",
    "    tp.data.operate.execute_equation('{CO2 (ppm)} = {Mass fraction of co2}*1E6')\n",
    "    '''\n",
    "    tp.data.operate.execute_equation('{Velocity (m/s)} = SQRT({X Velocity}**2 + {Y Velocity}**2 + {Z Velocity}**2)')\n",
    "\n",
    "#创建剖切面云图\n",
    "def creat_slice(frame = tp.active_frame(),variable = 'Static Pressure',\n",
    "                translucency = True,shade = False,slices = True):\n",
    "    \n",
    "    plot = frame.plot()\n",
    "    plot.use_translucency = translucency\n",
    "    plot.contour(0).variable = dataset.variable(variable)\n",
    "    plot.show_shade = shade\n",
    "    plot.show_slices = slices\n",
    "    plot.slice(0).orientation = SliceSurface.XPlanes\n",
    "    plot.slice(1).orientation = SliceSurface.YPlanes\n",
    "    plot.slice(2).orientation = SliceSurface.ZPlanes\n",
    "    slices = plot.slices(0,1,2)\n",
    "    slices.show = True\n",
    "    slices.edge.show = True\n",
    "    slices.edge.line_thickness = 0.25\n",
    "    slices.effects.use_translucency = True\n",
    "    return slices\n",
    "\n",
    "#重置剖切面位置\n",
    "def reset_slices(plot = tp.active_frame().plot()):\n",
    "    axes = plot.axes\n",
    "    l_axes = [axes.x_axis,axes.y_axis,axes.z_axis]\n",
    "    slices = creat_slice()\n",
    "    temp = ()\n",
    "    j = 0\n",
    "    for each in axes:\n",
    "        temp = temp + ((each.max + each.min)/2,)\n",
    "        init_origin = [0,0,0]\n",
    "        init_origin[j] = temp[j]\n",
    "        slices[j].origin = tuple(init_origin)\n",
    "        j += 1\n",
    "\n",
    "#云图图例格式化\n",
    "def legend_init(frame = tp.active_frame(),fonts = 'Time New Roman'):\n",
    "    legend = frame.plot().contour(0).legend\n",
    "    legend.show = True\n",
    "    legend.vertical = False\n",
    "    legend.label_location = ContLegendLabelLocation.ContourLevels\n",
    "    legend.position = (100,100)\n",
    "    legend.box.box_type = tp.constant.TextBox.None_\n",
    "    legend.number_font.typeface = fonts\n",
    "    legend.number_font.size = 2.5\n",
    "    legend.header.font.typeface = fonts\n",
    "    legend.header.font.size = 2.5\n",
    "\n",
    "#方向标格式化\n",
    "def axes_init(frame = tp.active_frame()):\n",
    "    plot = frame.plot()\n",
    "    plot.axes.orientation_axis.show = True\n",
    "    plot.axes.orientation_axis.position = 7,7\n",
    "    plot.axes.orientation_axis.size = 7"
   ]
  },
  {
   "cell_type": "code",
   "execution_count": 60,
   "metadata": {},
   "outputs": [],
   "source": []
  },
  {
   "cell_type": "code",
   "execution_count": 46,
   "metadata": {},
   "outputs": [],
   "source": []
  },
  {
   "cell_type": "code",
   "execution_count": 31,
   "metadata": {},
   "outputs": [
    {
     "data": {
      "text/plain": [
       "-0.5034360885620122"
      ]
     },
     "execution_count": 31,
     "metadata": {},
     "output_type": "execute_result"
    }
   ],
   "source": [
    "a = frame.plot().axes.x_axis.max\n",
    "b = frame.plot().axes.x_axis.min\n",
    "test = a+b\n",
    "test/2"
   ]
  },
  {
   "cell_type": "code",
   "execution_count": 24,
   "metadata": {},
   "outputs": [],
   "source": [
    "plot.show_slices = True"
   ]
  },
  {
   "cell_type": "code",
   "execution_count": 29,
   "metadata": {},
   "outputs": [],
   "source": [
    "axes_transform()\n",
    "velocity_field()\n",
    "creat_slice()\n",
    "legend_init()\n",
    "axes_init()"
   ]
  }
 ],
 "metadata": {
  "kernelspec": {
   "display_name": "Python 3",
   "language": "python",
   "name": "python3"
  },
  "language_info": {
   "codemirror_mode": {
    "name": "ipython",
    "version": 3
   },
   "file_extension": ".py",
   "mimetype": "text/x-python",
   "name": "python",
   "nbconvert_exporter": "python",
   "pygments_lexer": "ipython3",
   "version": "3.10.7"
  },
  "orig_nbformat": 4,
  "vscode": {
   "interpreter": {
    "hash": "3196968d684371006099b3d55edeef8ed90365227a30deaef86e5d4aa8519be0"
   }
  }
 },
 "nbformat": 4,
 "nbformat_minor": 2
}
