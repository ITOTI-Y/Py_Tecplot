{
 "cells": [
  {
   "cell_type": "code",
   "execution_count": 29,
   "metadata": {},
   "outputs": [
    {
     "name": "stdout",
     "output_type": "stream",
     "text": [
      "Connecting to Tecplot 360 TecUtil Server on:\n",
      "    tcp://localhost:7600\n",
      "Connection established.\n"
     ]
    }
   ],
   "source": [
    "#导入初始化\n",
    "import tecplot as tp\n",
    "import numpy as np\n",
    "import pandas as pd\n",
    "from tecplot.constant import PlotType,SliceSurface,ContLegendLabelLocation\n",
    "tp.session.connect()\n",
    "frame = tp.active_frame()\n",
    "dataset = frame.dataset\n",
    "fmaps = frame.plot().fieldmaps([dataset.zone(i) for i in range(frame.plot().num_fieldmaps)])\n",
    "fmaps.scatter.show = False\n",
    "\n",
    "#坐标转换\n",
    "def axes_transform(frame = tp.active_frame(),transform = {'z':'y','y':'z'},init = True):\n",
    "    axes = frame.plot().axes #笛卡尔三维坐标系\n",
    "    plot = frame.plot()\n",
    "    for i in transform:\n",
    "        if i == 'x' or i == 'X':\n",
    "            axes.x_axis.variable = dataset.variable(f'{transform[i]}')\n",
    "        elif i == 'y' or i == 'Y':\n",
    "            axes.y_axis.variable = dataset.variable(f'{transform[i]}')\n",
    "        elif i == 'z' or i == 'Z':\n",
    "            axes.z_axis.variable = dataset.variable(f'{transform[i]}')\n",
    "    if init: #初始化坐标轴，重设缩放\n",
    "        axes.reset_range()\n",
    "        axes.reset_scale()\n",
    "        plot.view.fit()\n",
    "\n",
    "#求解速度场\n",
    "def velocity_field():\n",
    "    '''\n",
    "    数据转换函数，使用方式参考：\n",
    "    二氧化碳浓度场：\n",
    "    tp.data.operate.execute_equation('{CO2 (ppm)} = {Mass fraction of co2}*1E6')\n",
    "    '''\n",
    "    tp.data.operate.execute_equation('{Velocity (m/s)} = SQRT({X Velocity}**2 + {Y Velocity}**2 + {Z Velocity}**2)')\n",
    "\n",
    "#创建剖切面云图\n",
    "def creat_slice(frame = tp.active_frame(),variable = 'Static Pressure',\n",
    "                translucency = True,shade = False,slices = True):\n",
    "    \n",
    "    plot = frame.plot()\n",
    "    plot.use_translucency = translucency\n",
    "    plot.contour(0).variable = dataset.variable(variable)\n",
    "    plot.show_shade = shade\n",
    "    plot.show_slices = slices\n",
    "    plot.slice(0).orientation = SliceSurface.XPlanes\n",
    "    plot.slice(1).orientation = SliceSurface.YPlanes\n",
    "    plot.slice(2).orientation = SliceSurface.ZPlanes\n",
    "    slices = plot.slices(0,1,2)\n",
    "    slices.show = True\n",
    "    slices.edge.show = True\n",
    "    slices.edge.line_thickness = 0.25\n",
    "    slices.effects.use_translucency = True\n",
    "    return slices\n",
    "\n",
    "#重置剖切面位置\n",
    "def reset_slices(plot = tp.active_frame().plot()):\n",
    "    axes = plot.axes\n",
    "    l_axes = [axes.x_axis,axes.y_axis,axes.z_axis]\n",
    "    slices = creat_slice()\n",
    "    temp = ()\n",
    "    j = 0\n",
    "    for each in axes:\n",
    "        temp = temp + ((each.max + each.min)/2,)\n",
    "        init_origin = [0,0,0]\n",
    "        init_origin[j] = temp[j]\n",
    "        slices[j].origin = tuple(init_origin)\n",
    "        j += 1\n",
    "\n",
    "#云图图例格式化\n",
    "def legend_init(frame = tp.active_frame(),fonts = 'Time New Roman'):\n",
    "    legend = frame.plot().contour(0).legend\n",
    "    legend.show = True\n",
    "    legend.vertical = False\n",
    "    legend.label_location = ContLegendLabelLocation.ContourLevels\n",
    "    legend.position = (100,100)\n",
    "    legend.box.box_type = tp.constant.TextBox.None_\n",
    "    legend.number_font.typeface = fonts\n",
    "    legend.number_font.size = 2.5\n",
    "    legend.header.font.typeface = fonts\n",
    "    legend.header.font.size = 2.5\n",
    "\n",
    "#方向标格式化\n",
    "def axes_init(frame = tp.active_frame()):\n",
    "    plot = frame.plot()\n",
    "    plot.axes.orientation_axis.show = True\n",
    "    plot.axes.orientation_axis.position = 7,7\n",
    "    plot.axes.orientation_axis.size = 7\n",
    "\n",
    "#单个方向剖面图重置\n",
    "def reset_one_slice(direction = 'x'):\n",
    "    slices = tp.active_frame().plot().slices(0,1,2)\n",
    "    direction_dict = {'x':0,'y':1,'z':2}\n",
    "    vec = direction_dict[direction]\n",
    "    axes = tp.active_frame().plot().axes\n",
    "    l_axes = [axes.x_axis,axes.y_axis,axes.z_axis]\n",
    "    axes_range = (l_axes[vec].max + l_axes[vec].min)/2\n",
    "    init_origin = [0,0,0]\n",
    "    init_origin[vec] = axes_range\n",
    "    slices[vec].origin = tuple(init_origin)\n",
    "\n",
    "#各方向自定义云图\n",
    "def modify_slice(direction = 'x',num = 0):\n",
    "    direciton_dict = {'x':0,'y':1,'z':2}\n",
    "    vec = direciton_dict[direction]\n",
    "    frame = tp.active_frame()\n",
    "    plot = frame.plot()\n",
    "    axes = plot.axes\n",
    "    slices = plot.slices(0,1,2) #0,1,2分别对应x,y,z方向\n",
    "    slices[vec].show = True\n",
    "    init_slices = [0,0,0]\n",
    "    init_slices[vec] = num\n",
    "    slices[vec].origin = tuple(init_slices)\n",
    "    l_axes = [axes.x_axis,axes.y_axis,axes.z_axis]\n",
    "    if num > l_axes[0].max or num < l_axes[0].min:\n",
    "        reset_one_slice('x')\n",
    "        print('Range: %.2f to %.2f' %(l_axes[0].min,l_axes[0].max))\n",
    "        print('Now number: %.2f  Out of range of coordinates !' %(num))\n",
    "\n",
    "#去除数据点集\n",
    "def clear_extract(name = 'line'):\n",
    "    while True:\n",
    "        try:\n",
    "            dataset.delete_zones(dataset.zone(name))\n",
    "        except:\n",
    "            print('complete')\n",
    "            break"
   ]
  },
  {
   "cell_type": "code",
   "execution_count": 31,
   "metadata": {},
   "outputs": [
    {
     "name": "stdout",
     "output_type": "stream",
     "text": [
      "complete\n",
      "complete\n"
     ]
    }
   ],
   "source": [
    "# 线数据提取\n",
    "plot = frame.plot()\n",
    "position_origin = [1.67,-3.8,1.67] # 该处Y、Z坐标与Probe中的Y、Z坐标相反\n",
    "position_matrix = np.arange(position_origin[0],position_origin[0]+3,1)\n",
    "position_res = []\n",
    "plot.show_scatter = True\n",
    "for i in position_matrix:\n",
    "    position_origin[0] = i\n",
    "    position_res.append(position_origin.copy()) # 需要使用copy()函数，否则position_origin会被修改\n",
    "line = tp.data.extract.extract_line(position_res)\n",
    "variables = line.values('Static Pressure')\n",
    "pd_charts = pd.DataFrame(columns=['Coordinate Point','Static Pressure'])\n",
    "for i in range(len(position_res)):\n",
    "    pd_charts.loc[i] = [position_res[i],variables[i]]\n",
    "line.name = 'line'\n",
    "clear_extract(line.name)\n",
    "clear_extract('Extracted Points')"
   ]
  },
  {
   "cell_type": "code",
   "execution_count": 28,
   "metadata": {},
   "outputs": [
    {
     "data": {
      "text/plain": [
       "'Extracted Points'"
      ]
     },
     "execution_count": 28,
     "metadata": {},
     "output_type": "execute_result"
    }
   ],
   "source": []
  },
  {
   "cell_type": "code",
   "execution_count": 20,
   "metadata": {},
   "outputs": [
    {
     "name": "stdout",
     "output_type": "stream",
     "text": [
      "complete\n"
     ]
    }
   ],
   "source": []
  },
  {
   "cell_type": "code",
   "execution_count": 83,
   "metadata": {},
   "outputs": [
    {
     "name": "stdout",
     "output_type": "stream",
     "text": [
      "['human_fluid', 'wall_sides:12082', 'wall_ground:12085', 'wall_top:12086', 'wall_people:12087', 'inlet_wall:12084', 'inlet_nose:12088', 'outlet_wall:12083', 'inlet_nose', 'wall_people', 'wall_top', 'wall_ground', 'inlet_wall', 'outlet_wall', 'wall_sides', 'line', 'line', 'Extracted Points', 'line', 'line', 'Extracted Points', 'Extracted Points']\n"
     ]
    }
   ],
   "source": [
    "print(dataset.zone_names)"
   ]
  },
  {
   "cell_type": "code",
   "execution_count": 56,
   "metadata": {},
   "outputs": [
    {
     "data": {
      "text/plain": [
       "[<tecplot.plot.slice.SliceGroup at 0x25630bb5060>]"
      ]
     },
     "execution_count": 56,
     "metadata": {},
     "output_type": "execute_result"
    }
   ],
   "source": [
    "def direciton_vec(direction = 'x'):\n",
    "    direciton_dict = {'x':0,'y':1,'z':2}\n",
    "    if type(direction) == str:\n",
    "        vec = direciton_dict[direction]\n",
    "        slices = tp.active_frame().plot().slices(0,1,2)\n",
    "        return slices[vec]\n",
    "    elif type(direction) == list:\n",
    "        res = []\n",
    "        for each in direction:\n",
    "            res.append(direciton_vec(each))\n",
    "            return res\n",
    "direciton_vec(['x','y','z'])"
   ]
  },
  {
   "cell_type": "code",
   "execution_count": 78,
   "metadata": {},
   "outputs": [],
   "source": [
    "# 初始化步骤\n",
    "axes_transform()\n",
    "velocity_field()\n",
    "creat_slice()\n",
    "legend_init()\n",
    "axes_init()"
   ]
  }
 ],
 "metadata": {
  "kernelspec": {
   "display_name": "Python 3",
   "language": "python",
   "name": "python3"
  },
  "language_info": {
   "codemirror_mode": {
    "name": "ipython",
    "version": 3
   },
   "file_extension": ".py",
   "mimetype": "text/x-python",
   "name": "python",
   "nbconvert_exporter": "python",
   "pygments_lexer": "ipython3",
   "version": "3.10.7"
  },
  "orig_nbformat": 4,
  "vscode": {
   "interpreter": {
    "hash": "3196968d684371006099b3d55edeef8ed90365227a30deaef86e5d4aa8519be0"
   }
  }
 },
 "nbformat": 4,
 "nbformat_minor": 2
}
