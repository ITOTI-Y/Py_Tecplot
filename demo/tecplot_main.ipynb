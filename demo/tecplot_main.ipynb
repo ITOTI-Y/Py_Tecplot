{
 "cells": [
  {
   "cell_type": "code",
   "execution_count": 31,
   "metadata": {},
   "outputs": [
    {
     "name": "stdout",
     "output_type": "stream",
     "text": [
      "Connecting to Tecplot 360 TecUtil Server on:\n",
      "    tcp://localhost:7600\n",
      "Connection established.\n"
     ]
    }
   ],
   "source": [
    "#初始化程序\n",
    "import tecplot as tp\n",
    "from tecplot.constant import PlotType\n",
    "tp.session.connect()\n",
    "frame = tp.active_frame()\n",
    "dataset = frame.dataset"
   ]
  },
  {
   "cell_type": "code",
   "execution_count": 33,
   "metadata": {},
   "outputs": [],
   "source": [
    "#坐标转换\n",
    "def axes_transform(transform = {'z':'y','y':'z'}):\n",
    "    frame = tp.active_frame()\n",
    "    axes = frame.plot(PlotType.Cartesian3D).axes\n",
    "    for i in transform:\n",
    "        if i == 'x' or i == 'X':\n",
    "            axes.x_axis.variable = dataset.variable(f'{transform[i]}')\n",
    "        elif i == 'y' or i == 'Y':\n",
    "            axes.y_axis.variable = dataset.variable(f'{transform[i]}')\n",
    "        elif i == 'z' or i == 'Z':\n",
    "            axes.z_axis.variable = dataset.variable(f'{transform[i]}')\n",
    "\n",
    "#求解速度场\n",
    "def velocity_field():\n",
    "    '''\n",
    "    数据转换函数，使用方式参考：\n",
    "    二氧化碳浓度场：\n",
    "    tp.data.operate.execute_equation('{CO2 (ppm)} = {Mass fraction of co2}*1E6')\n",
    "    '''\n",
    "    frame = tp.active_frame()\n",
    "    tp.data.operate.execute_equation('{Velocity (m/s)} = SQRT({X Velocity}**2 + {Y Velocity}**2 + {Z Velocity}**2)')\n",
    "\n",
    "#创建剖切面云图\n",
    "def creat_slice():\n",
    "    plot = frame.plot()\n",
    "    plot.contour(0).variable = dataset.variable('Static Pressure')\n",
    "    plot.show_contour = True"
   ]
  },
  {
   "cell_type": "code",
   "execution_count": 35,
   "metadata": {},
   "outputs": [],
   "source": []
  },
  {
   "cell_type": "code",
   "execution_count": null,
   "metadata": {},
   "outputs": [],
   "source": []
  }
 ],
 "metadata": {
  "kernelspec": {
   "display_name": "Python 3",
   "language": "python",
   "name": "python3"
  },
  "language_info": {
   "codemirror_mode": {
    "name": "ipython",
    "version": 3
   },
   "file_extension": ".py",
   "mimetype": "text/x-python",
   "name": "python",
   "nbconvert_exporter": "python",
   "pygments_lexer": "ipython3",
   "version": "3.10.7"
  },
  "orig_nbformat": 4,
  "vscode": {
   "interpreter": {
    "hash": "3196968d684371006099b3d55edeef8ed90365227a30deaef86e5d4aa8519be0"
   }
  }
 },
 "nbformat": 4,
 "nbformat_minor": 2
}
